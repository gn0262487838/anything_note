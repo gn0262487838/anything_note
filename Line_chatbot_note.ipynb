{
  "nbformat": 4,
  "nbformat_minor": 0,
  "metadata": {
    "colab": {
      "name": "Line_chatbot_note.ipynb",
      "provenance": [],
      "collapsed_sections": [],
      "include_colab_link": true
    },
    "kernelspec": {
      "name": "python3",
      "display_name": "Python 3"
    }
  },
  "cells": [
    {
      "cell_type": "markdown",
      "metadata": {
        "id": "view-in-github",
        "colab_type": "text"
      },
      "source": [
        "<a href=\"https://colab.research.google.com/github/gn0262487838/anything_note/blob/master/Line_chatbot_note.ipynb\" target=\"_parent\"><img src=\"https://colab.research.google.com/assets/colab-badge.svg\" alt=\"Open In Colab\"/></a>"
      ]
    },
    {
      "cell_type": "markdown",
      "metadata": {
        "id": "AfVbhMBR39UL",
        "colab_type": "text"
      },
      "source": [
        "# LINE BOT\n",
        "\n",
        "## VM設定\n",
        "\n",
        "> virtualbox\n",
        "\n",
        "0. 匯入ova\n",
        "\n",
        "1. 設定ipv4\n",
        "\n",
        "    ex.192.168.114.1\n",
        "\n",
        "> MobaXterm\n",
        "\n",
        "0. [git clone repo](https://github.com/BingHongLi/line_chat_bot_tutorial)\n",
        "\n",
        "1. ls 遊覽檔案清單\n",
        "\n",
        "2. cd 前往您要的路徑\n",
        "\n",
        "3. sh build.sh 建置環境\n",
        "\n",
        "4. docker images 檢視映像檔\n",
        "\n",
        "4. sh start.sh 啟動環境\n",
        "\n",
        "> Docker \n",
        "\n",
        "* 自己研究\n",
        "\n",
        "\n",
        "\n",
        "\n"
      ]
    },
    {
      "cell_type": "markdown",
      "metadata": {
        "id": "rL73bQdcoMCZ",
        "colab_type": "text"
      },
      "source": [
        "# JUPYTER\n",
        "\n",
        "> tutorial\n",
        "\n",
        "* 192.168.114.10:8888"
      ]
    },
    {
      "cell_type": "markdown",
      "metadata": {
        "id": "DCUGNnsx_Fub",
        "colab_type": "text"
      },
      "source": [
        "## 對接LINE API \n",
        "\n",
        "> Line message api\n",
        "\n",
        "1. create a provider\n",
        "\n",
        "2. create messaging api\n",
        "\n",
        "3. search your bot api info and insert info to code \n",
        "\n"
      ]
    },
    {
      "cell_type": "code",
      "metadata": {
        "id": "P4ifaFYVEZSm",
        "colab_type": "code",
        "colab": {}
      },
      "source": [
        "# line_secret_key code\n",
        "{\n",
        "  \"channel_access_token\":\"your token\",\n",
        "  \"secret_key\":\"your key\",\n",
        "  \"self_user_id\":\"your id\",\n",
        "  \"rich_menu_id\":\"放入生成自定義菜單的id\",\n",
        "  \"server_url\":\"ngrok url or bababa...\"\n",
        "}"
      ],
      "execution_count": 0,
      "outputs": []
    },
    {
      "cell_type": "markdown",
      "metadata": {
        "id": "fzGfUbs7ISNB",
        "colab_type": "text"
      },
      "source": [
        "## 經典款實作\n",
        "\n",
        "### 核心功能選單\n",
        "\n",
        " > 製作圖文\n",
        " \n",
        " * 設定檔\n",
        " \n",
        " * 把設定檔上傳至line取得id\n",
        " \n",
        " * 把圖片上傳至指定的id\n",
        " \n",
        " * 綁定用戶跟圖文選單\n",
        "\n",
        "> 取個資\n",
        "\n",
        "> 綁定用戶及發送歡迎詞\n",
        "\n",
        "\n"
      ]
    }
  ]
}